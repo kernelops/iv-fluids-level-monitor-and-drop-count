{
 "cells": [
  {
   "cell_type": "markdown",
   "metadata": {},
   "source": [
    "# Saline Level Detection\n",
    "\n",
    "This notebook implements a complete workflow to train a convolutional neural network (CNN) for classifying the fill level of saline bottles. \n",
    "\n",
    "Dataset used: \n",
    "1. DOI: 10.17632/9mcj3rvvxb.1\n",
    "2. DOI: 10.17632/n8k2zfr6xm.2\n",
    "\n",
    "### 1. Environment Setup\n",
    "\n",
    "This first cell imports all necessary libraries and defines the core configuration parameters for the project.\n",
    "- **Libraries:** TensorFlow/Keras for model building, PIL/OpenCV for image manipulation, and Scikit-learn/Seaborn for evaluation.\n",
    "- **Paths:** Defines the paths to the input dataset and the working directory for saving processed files.\n",
    "- **Parameters:**\n",
    "    - `CLASS_NAMES`: The four categories for our classification task.\n",
    "    - `IMG_SIZE`: Set to **32x32 pixels**. "
   ]
  },
  {
   "cell_type": "code",
   "execution_count": 3,
   "metadata": {
    "_cell_guid": "b1076dfc-b9ad-4769-8c92-a6c4dae69d19",
    "_uuid": "8f2839f25d086af736a60e9eeb907d3b93b6e0e5",
    "execution": {
     "iopub.execute_input": "2025-06-19T17:43:54.126439Z",
     "iopub.status.busy": "2025-06-19T17:43:54.125829Z",
     "iopub.status.idle": "2025-06-19T17:43:54.132552Z",
     "shell.execute_reply": "2025-06-19T17:43:54.131724Z",
     "shell.execute_reply.started": "2025-06-19T17:43:54.126417Z"
    },
    "trusted": true
   },
   "outputs": [
    {
     "name": "stdout",
     "output_type": "stream",
     "text": [
      "TensorFlow Version: 2.18.0\n",
      "GPU Available: [PhysicalDevice(name='/physical_device:GPU:0', device_type='GPU'), PhysicalDevice(name='/physical_device:GPU:1', device_type='GPU')]\n"
     ]
    }
   ],
   "source": [
    "# Import all necessary libraries\n",
    "import os\n",
    "import shutil\n",
    "import numpy as np\n",
    "import pandas as pd\n",
    "import matplotlib.pyplot as plt\n",
    "import seaborn as sns\n",
    "from PIL import Image as pil_image\n",
    "import PIL.ImageOps\n",
    "import cv2\n",
    "\n",
    "import tensorflow as tf\n",
    "from tensorflow.keras.preprocessing.image import ImageDataGenerator\n",
    "from tensorflow.keras.models import Sequential, load_model\n",
    "from tensorflow.keras.layers import Conv2D, MaxPooling2D, Flatten, Dense, Dropout, InputLayer\n",
    "from tensorflow.keras.callbacks import EarlyStopping, ModelCheckpoint\n",
    "\n",
    "from sklearn.model_selection import train_test_split\n",
    "from sklearn.metrics import classification_report, confusion_matrix\n",
    "\n",
    "print(\"TensorFlow Version:\", tf.__version__)\n",
    "print(\"GPU Available:\", tf.config.list_physical_devices('GPU'))\n",
    "\n",
    "# --- Main Configuration ---\n",
    "ORIGINAL_DATA_PATH = '/kaggle/input/iv-fluids-level-dataset/dataset'\n",
    "WORKING_DIR = '/kaggle/working/'\n",
    "\n",
    "IMG_SIZE = 32 \n",
    "BATCH_SIZE = 32\n",
    "CLASS_NAMES = ['sal_data_empty', 'sal_data_50', 'sal_data_80', 'sal_data_100']"
   ]
  },
  {
   "cell_type": "markdown",
   "metadata": {},
   "source": [
    "### 2. Generating the Data Label File\n",
    "\n",
    "The first data handling step is to create a text file that maps every image to its corresponding class label (based on its folder name).\n",
    "\n",
    "This cell replicates that process by creating `saline_data_label.txt`. This file serves as a manifest for all subsequent preprocessing steps."
   ]
  },
  {
   "cell_type": "code",
   "execution_count": 4,
   "metadata": {
    "execution": {
     "iopub.execute_input": "2025-06-19T17:43:58.429352Z",
     "iopub.status.busy": "2025-06-19T17:43:58.428674Z",
     "iopub.status.idle": "2025-06-19T17:43:58.538071Z",
     "shell.execute_reply": "2025-06-19T17:43:58.537544Z",
     "shell.execute_reply.started": "2025-06-19T17:43:58.429329Z"
    },
    "trusted": true
   },
   "outputs": [
    {
     "name": "stdout",
     "output_type": "stream",
     "text": [
      "Generating label file...\n",
      "Label file created at: /kaggle/working/data_label/saline_data_label.txt\n"
     ]
    }
   ],
   "source": [
    "\n",
    "data_label_path = os.path.join(WORKING_DIR, 'data_label')\n",
    "os.makedirs(data_label_path, exist_ok=True)\n",
    "label_file_path = os.path.join(data_label_path, 'saline_data_label.txt')\n",
    "\n",
    "print(\"Generating label file...\")\n",
    "with open(label_file_path, 'w') as data_file:\n",
    "    for dir_name in sorted(os.listdir(ORIGINAL_DATA_PATH)): \n",
    "        if dir_name in CLASS_NAMES:\n",
    "            img_path_full = os.path.join(ORIGINAL_DATA_PATH, dir_name)\n",
    "            for img_name in os.listdir(img_path_full):\n",
    "                line = f\"{dir_name}/{img_name}\\n\"\n",
    "                data_file.write(line)\n",
    "print(f\"Label file created at: {label_file_path}\")"
   ]
  },
  {
   "cell_type": "markdown",
   "metadata": {},
   "source": [
    "### 3. Preprocessing Pipeline\n",
    "\n",
    "1.  **Negative Filter (Invert):** A negative filter is applied to each image. The authors note this was done \"to emphasize the transparency of saline solution's filling level.\"\n",
    "2.  **Resize:** Each inverted image is resized to **32x32 pixels** to match the required input shape of the model architecture.\n",
    "\n",
    "The newly processed images are saved to a separate directory (`processed_images_paper_spec`) to keep the original dataset untouched."
   ]
  },
  {
   "cell_type": "code",
   "execution_count": 5,
   "metadata": {
    "execution": {
     "iopub.execute_input": "2025-06-19T17:44:02.462650Z",
     "iopub.status.busy": "2025-06-19T17:44:02.462395Z",
     "iopub.status.idle": "2025-06-19T18:03:13.256979Z",
     "shell.execute_reply": "2025-06-19T18:03:13.256135Z",
     "shell.execute_reply.started": "2025-06-19T17:44:02.462634Z"
    },
    "trusted": true
   },
   "outputs": [
    {
     "name": "stdout",
     "output_type": "stream",
     "text": [
      "Starting image preprocessing (Invert + Resize to 32x32)...\n",
      "\n",
      "Preprocessing complete.\n"
     ]
    }
   ],
   "source": [
    "# This cell applies the exact preprocessing: Invert filter and 32x32 resize.\n",
    "PROCESSED_DATA_PATH = os.path.join(WORKING_DIR, 'processed_images_paper_spec')\n",
    "os.makedirs(PROCESSED_DATA_PATH, exist_ok=True)\n",
    "\n",
    "for name in CLASS_NAMES:\n",
    "    os.makedirs(os.path.join(PROCESSED_DATA_PATH, name), exist_ok=True)\n",
    "    \n",
    "print(f\"Starting image preprocessing (Invert + Resize to {IMG_SIZE}x{IMG_SIZE})...\")\n",
    "\n",
    "with open(label_file_path, \"r\") as f:\n",
    "    lines = f.readlines()\n",
    "\n",
    "for line in lines:\n",
    "    try:\n",
    "        line = line.strip()\n",
    "        label, file_name = line.split(\"/\")\n",
    "        \n",
    "        original_file_path = os.path.join(ORIGINAL_DATA_PATH, label, file_name)\n",
    "        img = pil_image.open(original_file_path)\n",
    "\n",
    "        # 1. Apply negative filter \n",
    "        inverted_img = PIL.ImageOps.invert(img) \n",
    "        \n",
    "        # 2. Resize to 32x32 \n",
    "        resized_img = inverted_img.resize((IMG_SIZE, IMG_SIZE), pil_image.LANCZOS)\n",
    "        \n",
    "        # 3. Ensure RGB format\n",
    "        if resized_img.mode != 'RGB':\n",
    "            resized_img = resized_img.convert('RGB')\n",
    "            \n",
    "        # 4. Save the processed image\n",
    "        save_path = os.path.join(PROCESSED_DATA_PATH, label, file_name)\n",
    "        resized_img.save(save_path)\n",
    "        \n",
    "    except Exception as e:\n",
    "        print(f\"Error processing {line}: {e}\")\n",
    "\n",
    "print(f\"\\nPreprocessing complete.\")"
   ]
  },
  {
   "cell_type": "markdown",
   "metadata": {},
   "source": [
    "### 4. Creating Data Splits for Robust Training\n",
    "\n",
    "To properly train and evaluate a machine learning model, the data must be split into three distinct sets:\n",
    "- **Training Set (80%):** The data the model learns from.\n",
    "- **Validation Set (10%):** Data used after each epoch to check the model's performance on unseen data, guide hyperparameter tuning, and prevent overfitting.\n",
    "- **Test Set (10%):** Data held back until the very end. It is used only once to get a final, unbiased assessment of the trained model's real-world performance.\n",
    "\n",
    "This cell performs an 80/10/10 split on our preprocessed images, ensuring that each set has a proportional representation of all four classes (`stratify`)."
   ]
  },
  {
   "cell_type": "code",
   "execution_count": 6,
   "metadata": {
    "execution": {
     "iopub.execute_input": "2025-06-19T18:06:48.365044Z",
     "iopub.status.busy": "2025-06-19T18:06:48.364303Z",
     "iopub.status.idle": "2025-06-19T18:06:48.836653Z",
     "shell.execute_reply": "2025-06-19T18:06:48.835957Z",
     "shell.execute_reply.started": "2025-06-19T18:06:48.365019Z"
    },
    "trusted": true
   },
   "outputs": [
    {
     "name": "stdout",
     "output_type": "stream",
     "text": [
      "Data splitting complete.\n"
     ]
    }
   ],
   "source": [
    "# Create Train/Validation/Test split from the preprocessed images\n",
    "SPLIT_DATA_PATH = os.path.join(WORKING_DIR, 'split_data_paper_spec')\n",
    "\n",
    "if os.path.exists(SPLIT_DATA_PATH):\n",
    "    shutil.rmtree(SPLIT_DATA_PATH)\n",
    "\n",
    "train_dir = os.path.join(SPLIT_DATA_PATH, 'train')\n",
    "val_dir = os.path.join(SPLIT_DATA_PATH, 'validation')\n",
    "test_dir = os.path.join(SPLIT_DATA_PATH, 'test')\n",
    "\n",
    "os.makedirs(train_dir); os.makedirs(val_dir); os.makedirs(test_dir)\n",
    "\n",
    "all_files = []\n",
    "for class_name in CLASS_NAMES:\n",
    "    class_path = os.path.join(PROCESSED_DATA_PATH, class_name)\n",
    "    os.makedirs(os.path.join(train_dir, class_name)); os.makedirs(os.path.join(val_dir, class_name)); os.makedirs(os.path.join(test_dir, class_name))\n",
    "    files = os.listdir(class_path)\n",
    "    for f in files:\n",
    "        all_files.append((os.path.join(class_path, f), class_name))\n",
    "\n",
    "# Use an 80/10/10 split\n",
    "train_val_files, test_files = train_test_split(all_files, test_size=0.10, random_state=42, stratify=[label for _, label in all_files])\n",
    "train_files, val_files = train_test_split(train_val_files, test_size=1/9, random_state=42, stratify=[label for _, label in train_val_files])\n",
    "\n",
    "def copy_files_to_split(files, dest_base_dir):\n",
    "    for file_path, class_name in files:\n",
    "        shutil.copy(file_path, os.path.join(dest_base_dir, class_name))\n",
    "\n",
    "copy_files_to_split(train_files, train_dir)\n",
    "copy_files_to_split(val_files, val_dir)\n",
    "copy_files_to_split(test_files, test_dir)\n",
    "\n",
    "print(\"Data splitting complete.\")"
   ]
  },
  {
   "cell_type": "markdown",
   "metadata": {},
   "source": [
    "### 5. Preparing the Data Pipeline\n",
    "\n",
    "This cell sets up the `ImageDataGenerator` to feed data to the model.\n",
    "\n",
    "**Crucial Step:** A baseline model **\"trained without augmentation.\"**\n",
    "\n",
    "To faithfully replicate their success, we will also turn off all augmentation for the training set. The only transformation applied by the generator is `rescale=1./255`, which normalizes pixel values from the `[0, 255]` range to the `[0, 1]` range, a standard practice for neural networks."
   ]
  },
  {
   "cell_type": "code",
   "execution_count": 7,
   "metadata": {
    "execution": {
     "iopub.execute_input": "2025-06-19T18:06:57.505633Z",
     "iopub.status.busy": "2025-06-19T18:06:57.505367Z",
     "iopub.status.idle": "2025-06-19T18:06:57.587274Z",
     "shell.execute_reply": "2025-06-19T18:06:57.586647Z",
     "shell.execute_reply.started": "2025-06-19T18:06:57.505614Z"
    },
    "trusted": true
   },
   "outputs": [
    {
     "name": "stdout",
     "output_type": "stream",
     "text": [
      "Creating data generators WITHOUT augmentation to match the paper's benchmark...\n",
      "Found 3373 images belonging to 4 classes.\n",
      "Found 422 images belonging to 4 classes.\n",
      "Found 422 images belonging to 4 classes.\n"
     ]
    }
   ],
   "source": [
    "# The generator will only rescale pixel values from 0-255 to 0-1.\n",
    "print(\"Creating data generators WITHOUT augmentation to match the paper's benchmark...\")\n",
    "\n",
    "datagen_no_aug = ImageDataGenerator(rescale=1./255)\n",
    "\n",
    "train_generator = datagen_no_aug.flow_from_directory(\n",
    "    train_dir,\n",
    "    target_size=(IMG_SIZE, IMG_SIZE),\n",
    "    batch_size=BATCH_SIZE,\n",
    "    class_mode='categorical',\n",
    "    shuffle=True \n",
    ")\n",
    "\n",
    "validation_generator = datagen_no_aug.flow_from_directory(\n",
    "    val_dir,\n",
    "    target_size=(IMG_SIZE, IMG_SIZE),\n",
    "    batch_size=BATCH_SIZE,\n",
    "    class_mode='categorical',\n",
    "    shuffle=False\n",
    ")\n",
    "\n",
    "test_generator = datagen_no_aug.flow_from_directory(\n",
    "    test_dir,\n",
    "    target_size=(IMG_SIZE, IMG_SIZE),\n",
    "    batch_size=BATCH_SIZE,\n",
    "    class_mode='categorical',\n",
    "    shuffle=False\n",
    ")"
   ]
  },
  {
   "cell_type": "markdown",
   "metadata": {},
   "source": [
    "### 6. Building the CNN Architecture\n",
    "\n",
    "This cell defines the neural network using the Keras Sequential API. \n",
    "\n",
    "The model consists of:\n",
    "- An input layer expecting `32x32x3` images.\n",
    "- Two main convolutional blocks, each containing:\n",
    "    - Two `Conv2D` layers for feature extraction.\n",
    "    - A `MaxPooling2D` layer to downsample and retain important features.\n",
    "    - A `Dropout` layer to prevent overfitting.\n",
    "- A classifier head that flattens the feature maps and uses `Dense` layers to make the final prediction via a `softmax` activation function."
   ]
  },
  {
   "cell_type": "code",
   "execution_count": 8,
   "metadata": {
    "execution": {
     "iopub.execute_input": "2025-06-19T18:07:05.814436Z",
     "iopub.status.busy": "2025-06-19T18:07:05.814164Z",
     "iopub.status.idle": "2025-06-19T18:07:08.940709Z",
     "shell.execute_reply": "2025-06-19T18:07:08.939926Z",
     "shell.execute_reply.started": "2025-06-19T18:07:05.814417Z"
    },
    "trusted": true
   },
   "outputs": [
    {
     "name": "stdout",
     "output_type": "stream",
     "text": [
      "Building the exact model architecture from the paper...\n"
     ]
    },
    {
     "name": "stderr",
     "output_type": "stream",
     "text": [
      "/usr/local/lib/python3.11/dist-packages/keras/src/layers/core/input_layer.py:27: UserWarning: Argument `input_shape` is deprecated. Use `shape` instead.\n",
      "  warnings.warn(\n",
      "I0000 00:00:1750356426.087292      35 gpu_device.cc:2022] Created device /job:localhost/replica:0/task:0/device:GPU:0 with 13942 MB memory:  -> device: 0, name: Tesla T4, pci bus id: 0000:00:04.0, compute capability: 7.5\n",
      "I0000 00:00:1750356426.088121      35 gpu_device.cc:2022] Created device /job:localhost/replica:0/task:0/device:GPU:1 with 13942 MB memory:  -> device: 1, name: Tesla T4, pci bus id: 0000:00:05.0, compute capability: 7.5\n"
     ]
    },
    {
     "data": {
      "text/html": [
       "<pre style=\"white-space:pre;overflow-x:auto;line-height:normal;font-family:Menlo,'DejaVu Sans Mono',consolas,'Courier New',monospace\"><span style=\"font-weight: bold\">Model: \"sequential\"</span>\n",
       "</pre>\n"
      ],
      "text/plain": [
       "\u001b[1mModel: \"sequential\"\u001b[0m\n"
      ]
     },
     "metadata": {},
     "output_type": "display_data"
    },
    {
     "data": {
      "text/html": [
       "<pre style=\"white-space:pre;overflow-x:auto;line-height:normal;font-family:Menlo,'DejaVu Sans Mono',consolas,'Courier New',monospace\">┏━━━━━━━━━━━━━━━━━━━━━━━━━━━━━━━━━━━━━━┳━━━━━━━━━━━━━━━━━━━━━━━━━━━━━┳━━━━━━━━━━━━━━━━━┓\n",
       "┃<span style=\"font-weight: bold\"> Layer (type)                         </span>┃<span style=\"font-weight: bold\"> Output Shape                </span>┃<span style=\"font-weight: bold\">         Param # </span>┃\n",
       "┡━━━━━━━━━━━━━━━━━━━━━━━━━━━━━━━━━━━━━━╇━━━━━━━━━━━━━━━━━━━━━━━━━━━━━╇━━━━━━━━━━━━━━━━━┩\n",
       "│ conv2d (<span style=\"color: #0087ff; text-decoration-color: #0087ff\">Conv2D</span>)                      │ (<span style=\"color: #00d7ff; text-decoration-color: #00d7ff\">None</span>, <span style=\"color: #00af00; text-decoration-color: #00af00\">32</span>, <span style=\"color: #00af00; text-decoration-color: #00af00\">32</span>, <span style=\"color: #00af00; text-decoration-color: #00af00\">32</span>)          │             <span style=\"color: #00af00; text-decoration-color: #00af00\">896</span> │\n",
       "├──────────────────────────────────────┼─────────────────────────────┼─────────────────┤\n",
       "│ conv2d_1 (<span style=\"color: #0087ff; text-decoration-color: #0087ff\">Conv2D</span>)                    │ (<span style=\"color: #00d7ff; text-decoration-color: #00d7ff\">None</span>, <span style=\"color: #00af00; text-decoration-color: #00af00\">30</span>, <span style=\"color: #00af00; text-decoration-color: #00af00\">30</span>, <span style=\"color: #00af00; text-decoration-color: #00af00\">32</span>)          │           <span style=\"color: #00af00; text-decoration-color: #00af00\">9,248</span> │\n",
       "├──────────────────────────────────────┼─────────────────────────────┼─────────────────┤\n",
       "│ max_pooling2d (<span style=\"color: #0087ff; text-decoration-color: #0087ff\">MaxPooling2D</span>)         │ (<span style=\"color: #00d7ff; text-decoration-color: #00d7ff\">None</span>, <span style=\"color: #00af00; text-decoration-color: #00af00\">15</span>, <span style=\"color: #00af00; text-decoration-color: #00af00\">15</span>, <span style=\"color: #00af00; text-decoration-color: #00af00\">32</span>)          │               <span style=\"color: #00af00; text-decoration-color: #00af00\">0</span> │\n",
       "├──────────────────────────────────────┼─────────────────────────────┼─────────────────┤\n",
       "│ dropout (<span style=\"color: #0087ff; text-decoration-color: #0087ff\">Dropout</span>)                    │ (<span style=\"color: #00d7ff; text-decoration-color: #00d7ff\">None</span>, <span style=\"color: #00af00; text-decoration-color: #00af00\">15</span>, <span style=\"color: #00af00; text-decoration-color: #00af00\">15</span>, <span style=\"color: #00af00; text-decoration-color: #00af00\">32</span>)          │               <span style=\"color: #00af00; text-decoration-color: #00af00\">0</span> │\n",
       "├──────────────────────────────────────┼─────────────────────────────┼─────────────────┤\n",
       "│ conv2d_2 (<span style=\"color: #0087ff; text-decoration-color: #0087ff\">Conv2D</span>)                    │ (<span style=\"color: #00d7ff; text-decoration-color: #00d7ff\">None</span>, <span style=\"color: #00af00; text-decoration-color: #00af00\">15</span>, <span style=\"color: #00af00; text-decoration-color: #00af00\">15</span>, <span style=\"color: #00af00; text-decoration-color: #00af00\">64</span>)          │          <span style=\"color: #00af00; text-decoration-color: #00af00\">18,496</span> │\n",
       "├──────────────────────────────────────┼─────────────────────────────┼─────────────────┤\n",
       "│ conv2d_3 (<span style=\"color: #0087ff; text-decoration-color: #0087ff\">Conv2D</span>)                    │ (<span style=\"color: #00d7ff; text-decoration-color: #00d7ff\">None</span>, <span style=\"color: #00af00; text-decoration-color: #00af00\">13</span>, <span style=\"color: #00af00; text-decoration-color: #00af00\">13</span>, <span style=\"color: #00af00; text-decoration-color: #00af00\">64</span>)          │          <span style=\"color: #00af00; text-decoration-color: #00af00\">36,928</span> │\n",
       "├──────────────────────────────────────┼─────────────────────────────┼─────────────────┤\n",
       "│ max_pooling2d_1 (<span style=\"color: #0087ff; text-decoration-color: #0087ff\">MaxPooling2D</span>)       │ (<span style=\"color: #00d7ff; text-decoration-color: #00d7ff\">None</span>, <span style=\"color: #00af00; text-decoration-color: #00af00\">6</span>, <span style=\"color: #00af00; text-decoration-color: #00af00\">6</span>, <span style=\"color: #00af00; text-decoration-color: #00af00\">64</span>)            │               <span style=\"color: #00af00; text-decoration-color: #00af00\">0</span> │\n",
       "├──────────────────────────────────────┼─────────────────────────────┼─────────────────┤\n",
       "│ dropout_1 (<span style=\"color: #0087ff; text-decoration-color: #0087ff\">Dropout</span>)                  │ (<span style=\"color: #00d7ff; text-decoration-color: #00d7ff\">None</span>, <span style=\"color: #00af00; text-decoration-color: #00af00\">6</span>, <span style=\"color: #00af00; text-decoration-color: #00af00\">6</span>, <span style=\"color: #00af00; text-decoration-color: #00af00\">64</span>)            │               <span style=\"color: #00af00; text-decoration-color: #00af00\">0</span> │\n",
       "├──────────────────────────────────────┼─────────────────────────────┼─────────────────┤\n",
       "│ flatten (<span style=\"color: #0087ff; text-decoration-color: #0087ff\">Flatten</span>)                    │ (<span style=\"color: #00d7ff; text-decoration-color: #00d7ff\">None</span>, <span style=\"color: #00af00; text-decoration-color: #00af00\">2304</span>)                │               <span style=\"color: #00af00; text-decoration-color: #00af00\">0</span> │\n",
       "├──────────────────────────────────────┼─────────────────────────────┼─────────────────┤\n",
       "│ dense (<span style=\"color: #0087ff; text-decoration-color: #0087ff\">Dense</span>)                        │ (<span style=\"color: #00d7ff; text-decoration-color: #00d7ff\">None</span>, <span style=\"color: #00af00; text-decoration-color: #00af00\">512</span>)                 │       <span style=\"color: #00af00; text-decoration-color: #00af00\">1,180,160</span> │\n",
       "├──────────────────────────────────────┼─────────────────────────────┼─────────────────┤\n",
       "│ dropout_2 (<span style=\"color: #0087ff; text-decoration-color: #0087ff\">Dropout</span>)                  │ (<span style=\"color: #00d7ff; text-decoration-color: #00d7ff\">None</span>, <span style=\"color: #00af00; text-decoration-color: #00af00\">512</span>)                 │               <span style=\"color: #00af00; text-decoration-color: #00af00\">0</span> │\n",
       "├──────────────────────────────────────┼─────────────────────────────┼─────────────────┤\n",
       "│ dense_1 (<span style=\"color: #0087ff; text-decoration-color: #0087ff\">Dense</span>)                      │ (<span style=\"color: #00d7ff; text-decoration-color: #00d7ff\">None</span>, <span style=\"color: #00af00; text-decoration-color: #00af00\">4</span>)                   │           <span style=\"color: #00af00; text-decoration-color: #00af00\">2,052</span> │\n",
       "└──────────────────────────────────────┴─────────────────────────────┴─────────────────┘\n",
       "</pre>\n"
      ],
      "text/plain": [
       "┏━━━━━━━━━━━━━━━━━━━━━━━━━━━━━━━━━━━━━━┳━━━━━━━━━━━━━━━━━━━━━━━━━━━━━┳━━━━━━━━━━━━━━━━━┓\n",
       "┃\u001b[1m \u001b[0m\u001b[1mLayer (type)                        \u001b[0m\u001b[1m \u001b[0m┃\u001b[1m \u001b[0m\u001b[1mOutput Shape               \u001b[0m\u001b[1m \u001b[0m┃\u001b[1m \u001b[0m\u001b[1m        Param #\u001b[0m\u001b[1m \u001b[0m┃\n",
       "┡━━━━━━━━━━━━━━━━━━━━━━━━━━━━━━━━━━━━━━╇━━━━━━━━━━━━━━━━━━━━━━━━━━━━━╇━━━━━━━━━━━━━━━━━┩\n",
       "│ conv2d (\u001b[38;5;33mConv2D\u001b[0m)                      │ (\u001b[38;5;45mNone\u001b[0m, \u001b[38;5;34m32\u001b[0m, \u001b[38;5;34m32\u001b[0m, \u001b[38;5;34m32\u001b[0m)          │             \u001b[38;5;34m896\u001b[0m │\n",
       "├──────────────────────────────────────┼─────────────────────────────┼─────────────────┤\n",
       "│ conv2d_1 (\u001b[38;5;33mConv2D\u001b[0m)                    │ (\u001b[38;5;45mNone\u001b[0m, \u001b[38;5;34m30\u001b[0m, \u001b[38;5;34m30\u001b[0m, \u001b[38;5;34m32\u001b[0m)          │           \u001b[38;5;34m9,248\u001b[0m │\n",
       "├──────────────────────────────────────┼─────────────────────────────┼─────────────────┤\n",
       "│ max_pooling2d (\u001b[38;5;33mMaxPooling2D\u001b[0m)         │ (\u001b[38;5;45mNone\u001b[0m, \u001b[38;5;34m15\u001b[0m, \u001b[38;5;34m15\u001b[0m, \u001b[38;5;34m32\u001b[0m)          │               \u001b[38;5;34m0\u001b[0m │\n",
       "├──────────────────────────────────────┼─────────────────────────────┼─────────────────┤\n",
       "│ dropout (\u001b[38;5;33mDropout\u001b[0m)                    │ (\u001b[38;5;45mNone\u001b[0m, \u001b[38;5;34m15\u001b[0m, \u001b[38;5;34m15\u001b[0m, \u001b[38;5;34m32\u001b[0m)          │               \u001b[38;5;34m0\u001b[0m │\n",
       "├──────────────────────────────────────┼─────────────────────────────┼─────────────────┤\n",
       "│ conv2d_2 (\u001b[38;5;33mConv2D\u001b[0m)                    │ (\u001b[38;5;45mNone\u001b[0m, \u001b[38;5;34m15\u001b[0m, \u001b[38;5;34m15\u001b[0m, \u001b[38;5;34m64\u001b[0m)          │          \u001b[38;5;34m18,496\u001b[0m │\n",
       "├──────────────────────────────────────┼─────────────────────────────┼─────────────────┤\n",
       "│ conv2d_3 (\u001b[38;5;33mConv2D\u001b[0m)                    │ (\u001b[38;5;45mNone\u001b[0m, \u001b[38;5;34m13\u001b[0m, \u001b[38;5;34m13\u001b[0m, \u001b[38;5;34m64\u001b[0m)          │          \u001b[38;5;34m36,928\u001b[0m │\n",
       "├──────────────────────────────────────┼─────────────────────────────┼─────────────────┤\n",
       "│ max_pooling2d_1 (\u001b[38;5;33mMaxPooling2D\u001b[0m)       │ (\u001b[38;5;45mNone\u001b[0m, \u001b[38;5;34m6\u001b[0m, \u001b[38;5;34m6\u001b[0m, \u001b[38;5;34m64\u001b[0m)            │               \u001b[38;5;34m0\u001b[0m │\n",
       "├──────────────────────────────────────┼─────────────────────────────┼─────────────────┤\n",
       "│ dropout_1 (\u001b[38;5;33mDropout\u001b[0m)                  │ (\u001b[38;5;45mNone\u001b[0m, \u001b[38;5;34m6\u001b[0m, \u001b[38;5;34m6\u001b[0m, \u001b[38;5;34m64\u001b[0m)            │               \u001b[38;5;34m0\u001b[0m │\n",
       "├──────────────────────────────────────┼─────────────────────────────┼─────────────────┤\n",
       "│ flatten (\u001b[38;5;33mFlatten\u001b[0m)                    │ (\u001b[38;5;45mNone\u001b[0m, \u001b[38;5;34m2304\u001b[0m)                │               \u001b[38;5;34m0\u001b[0m │\n",
       "├──────────────────────────────────────┼─────────────────────────────┼─────────────────┤\n",
       "│ dense (\u001b[38;5;33mDense\u001b[0m)                        │ (\u001b[38;5;45mNone\u001b[0m, \u001b[38;5;34m512\u001b[0m)                 │       \u001b[38;5;34m1,180,160\u001b[0m │\n",
       "├──────────────────────────────────────┼─────────────────────────────┼─────────────────┤\n",
       "│ dropout_2 (\u001b[38;5;33mDropout\u001b[0m)                  │ (\u001b[38;5;45mNone\u001b[0m, \u001b[38;5;34m512\u001b[0m)                 │               \u001b[38;5;34m0\u001b[0m │\n",
       "├──────────────────────────────────────┼─────────────────────────────┼─────────────────┤\n",
       "│ dense_1 (\u001b[38;5;33mDense\u001b[0m)                      │ (\u001b[38;5;45mNone\u001b[0m, \u001b[38;5;34m4\u001b[0m)                   │           \u001b[38;5;34m2,052\u001b[0m │\n",
       "└──────────────────────────────────────┴─────────────────────────────┴─────────────────┘\n"
      ]
     },
     "metadata": {},
     "output_type": "display_data"
    },
    {
     "data": {
      "text/html": [
       "<pre style=\"white-space:pre;overflow-x:auto;line-height:normal;font-family:Menlo,'DejaVu Sans Mono',consolas,'Courier New',monospace\"><span style=\"font-weight: bold\"> Total params: </span><span style=\"color: #00af00; text-decoration-color: #00af00\">1,247,780</span> (4.76 MB)\n",
       "</pre>\n"
      ],
      "text/plain": [
       "\u001b[1m Total params: \u001b[0m\u001b[38;5;34m1,247,780\u001b[0m (4.76 MB)\n"
      ]
     },
     "metadata": {},
     "output_type": "display_data"
    },
    {
     "data": {
      "text/html": [
       "<pre style=\"white-space:pre;overflow-x:auto;line-height:normal;font-family:Menlo,'DejaVu Sans Mono',consolas,'Courier New',monospace\"><span style=\"font-weight: bold\"> Trainable params: </span><span style=\"color: #00af00; text-decoration-color: #00af00\">1,247,780</span> (4.76 MB)\n",
       "</pre>\n"
      ],
      "text/plain": [
       "\u001b[1m Trainable params: \u001b[0m\u001b[38;5;34m1,247,780\u001b[0m (4.76 MB)\n"
      ]
     },
     "metadata": {},
     "output_type": "display_data"
    },
    {
     "data": {
      "text/html": [
       "<pre style=\"white-space:pre;overflow-x:auto;line-height:normal;font-family:Menlo,'DejaVu Sans Mono',consolas,'Courier New',monospace\"><span style=\"font-weight: bold\"> Non-trainable params: </span><span style=\"color: #00af00; text-decoration-color: #00af00\">0</span> (0.00 B)\n",
       "</pre>\n"
      ],
      "text/plain": [
       "\u001b[1m Non-trainable params: \u001b[0m\u001b[38;5;34m0\u001b[0m (0.00 B)\n"
      ]
     },
     "metadata": {},
     "output_type": "display_data"
    }
   ],
   "source": [
    "print(\"Building the exact model architecture from the paper...\")\n",
    "model = Sequential([\n",
    "    # The input shape is 32x32 \n",
    "    InputLayer(input_shape=(IMG_SIZE, IMG_SIZE, 3)),\n",
    "\n",
    "    # First Block\n",
    "    Conv2D(32, (3, 3), activation='relu', padding='same'),\n",
    "    Conv2D(32, (3, 3), activation='relu'), # Default padding is 'valid'\n",
    "    MaxPooling2D(pool_size=(2, 2)),\n",
    "    Dropout(0.25),\n",
    "\n",
    "    # Second Block\n",
    "    Conv2D(64, (3, 3), activation='relu', padding='same'),\n",
    "    Conv2D(64, (3, 3), activation='relu'), # Default padding is 'valid'\n",
    "    MaxPooling2D(pool_size=(2, 2)),\n",
    "    Dropout(0.25),\n",
    "\n",
    "    # Classifier Head\n",
    "    Flatten(),\n",
    "    Dense(512, activation='relu'),\n",
    "    Dropout(0.5),\n",
    "    Dense(len(CLASS_NAMES), activation='softmax')\n",
    "])\n",
    "\n",
    "optimizer = tf.keras.optimizers.Adam(learning_rate=0.001)\n",
    "model.compile(optimizer=optimizer,\n",
    "              loss='categorical_crossentropy',\n",
    "              metrics=['accuracy'])\n",
    "\n",
    "model.summary()"
   ]
  },
  {
   "cell_type": "markdown",
   "metadata": {},
   "source": [
    "### 7. Training the Neural Network\n",
    "\n",
    "This cell executes the model training process using `model.fit()`.\n",
    "\n",
    "We are using two important Keras callbacks:\n",
    "- **`ModelCheckpoint`**: This will monitor the validation accuracy after each epoch and save the model only when it improves. This ensures that we keep the best version of the model discovered during training.\n",
    "- **`EarlyStopping`**: This will monitor the validation loss and stop the training process automatically if the performance does not improve for a set number of epochs (`patience=25`). This prevents overfitting and saves computational time.\n",
    "\n",
    "We set our maximum epochs to 200, expecting `EarlyStopping` to halt the process within a similar range."
   ]
  },
  {
   "cell_type": "code",
   "execution_count": 9,
   "metadata": {
    "execution": {
     "iopub.execute_input": "2025-06-19T18:07:13.738813Z",
     "iopub.status.busy": "2025-06-19T18:07:13.738552Z",
     "iopub.status.idle": "2025-06-19T18:08:35.314954Z",
     "shell.execute_reply": "2025-06-19T18:08:35.314243Z",
     "shell.execute_reply.started": "2025-06-19T18:07:13.738793Z"
    },
    "trusted": true
   },
   "outputs": [
    {
     "name": "stdout",
     "output_type": "stream",
     "text": [
      "Epoch 1/200\n"
     ]
    },
    {
     "name": "stderr",
     "output_type": "stream",
     "text": [
      "/usr/local/lib/python3.11/dist-packages/keras/src/trainers/data_adapters/py_dataset_adapter.py:121: UserWarning: Your `PyDataset` class should call `super().__init__(**kwargs)` in its constructor. `**kwargs` can include `workers`, `use_multiprocessing`, `max_queue_size`. Do not pass these arguments to `fit()`, as they will be ignored.\n",
      "  self._warn_if_super_not_called()\n",
      "WARNING: All log messages before absl::InitializeLog() is called are written to STDERR\n",
      "I0000 00:00:1750356436.803657     128 service.cc:148] XLA service 0x7a66a8004e90 initialized for platform CUDA (this does not guarantee that XLA will be used). Devices:\n",
      "I0000 00:00:1750356436.808447     128 service.cc:156]   StreamExecutor device (0): Tesla T4, Compute Capability 7.5\n",
      "I0000 00:00:1750356436.808474     128 service.cc:156]   StreamExecutor device (1): Tesla T4, Compute Capability 7.5\n",
      "I0000 00:00:1750356437.363983     128 cuda_dnn.cc:529] Loaded cuDNN version 90300\n"
     ]
    },
    {
     "name": "stdout",
     "output_type": "stream",
     "text": [
      "\u001b[1m 17/106\u001b[0m \u001b[32m━━━\u001b[0m\u001b[37m━━━━━━━━━━━━━━━━━\u001b[0m \u001b[1m0s\u001b[0m 10ms/step - accuracy: 0.2601 - loss: 1.4197"
     ]
    },
    {
     "name": "stderr",
     "output_type": "stream",
     "text": [
      "I0000 00:00:1750356443.000357     128 device_compiler.h:188] Compiled cluster using XLA!  This line is logged at most once for the lifetime of the process.\n"
     ]
    },
    {
     "name": "stdout",
     "output_type": "stream",
     "text": [
      "\u001b[1m104/106\u001b[0m \u001b[32m━━━━━━━━━━━━━━━━━━━\u001b[0m\u001b[37m━\u001b[0m \u001b[1m0s\u001b[0m 39ms/step - accuracy: 0.2710 - loss: 1.3956\n",
      "Epoch 1: val_accuracy improved from -inf to 0.30569, saving model to /kaggle/working/paper_replication_model.h5\n",
      "\u001b[1m106/106\u001b[0m \u001b[32m━━━━━━━━━━━━━━━━━━━━\u001b[0m\u001b[37m\u001b[0m \u001b[1m15s\u001b[0m 54ms/step - accuracy: 0.2713 - loss: 1.3953 - val_accuracy: 0.3057 - val_loss: 1.3566\n",
      "Epoch 2/200\n",
      "\u001b[1m103/106\u001b[0m \u001b[32m━━━━━━━━━━━━━━━━━━━\u001b[0m\u001b[37m━\u001b[0m \u001b[1m0s\u001b[0m 11ms/step - accuracy: 0.3780 - loss: 1.3121\n",
      "Epoch 2: val_accuracy improved from 0.30569 to 0.46682, saving model to /kaggle/working/paper_replication_model.h5\n",
      "\u001b[1m106/106\u001b[0m \u001b[32m━━━━━━━━━━━━━━━━━━━━\u001b[0m\u001b[37m\u001b[0m \u001b[1m1s\u001b[0m 13ms/step - accuracy: 0.3790 - loss: 1.3112 - val_accuracy: 0.4668 - val_loss: 1.1767\n",
      "Epoch 3/200\n",
      "\u001b[1m102/106\u001b[0m \u001b[32m━━━━━━━━━━━━━━━━━━━\u001b[0m\u001b[37m━\u001b[0m \u001b[1m0s\u001b[0m 11ms/step - accuracy: 0.5122 - loss: 1.1185\n",
      "Epoch 3: val_accuracy improved from 0.46682 to 0.57820, saving model to /kaggle/working/paper_replication_model.h5\n",
      "\u001b[1m106/106\u001b[0m \u001b[32m━━━━━━━━━━━━━━━━━━━━\u001b[0m\u001b[37m\u001b[0m \u001b[1m1s\u001b[0m 13ms/step - accuracy: 0.5134 - loss: 1.1171 - val_accuracy: 0.5782 - val_loss: 1.0051\n",
      "Epoch 4/200\n",
      "\u001b[1m105/106\u001b[0m \u001b[32m━━━━━━━━━━━━━━━━━━━\u001b[0m\u001b[37m━\u001b[0m \u001b[1m0s\u001b[0m 10ms/step - accuracy: 0.6248 - loss: 0.9171\n",
      "Epoch 4: val_accuracy improved from 0.57820 to 0.71327, saving model to /kaggle/working/paper_replication_model.h5\n",
      "\u001b[1m106/106\u001b[0m \u001b[32m━━━━━━━━━━━━━━━━━━━━\u001b[0m\u001b[37m\u001b[0m \u001b[1m1s\u001b[0m 12ms/step - accuracy: 0.6250 - loss: 0.9164 - val_accuracy: 0.7133 - val_loss: 0.7628\n",
      "Epoch 5/200\n",
      "\u001b[1m102/106\u001b[0m \u001b[32m━━━━━━━━━━━━━━━━━━━\u001b[0m\u001b[37m━\u001b[0m \u001b[1m0s\u001b[0m 10ms/step - accuracy: 0.7144 - loss: 0.7401\n",
      "Epoch 5: val_accuracy improved from 0.71327 to 0.76540, saving model to /kaggle/working/paper_replication_model.h5\n",
      "\u001b[1m106/106\u001b[0m \u001b[32m━━━━━━━━━━━━━━━━━━━━\u001b[0m\u001b[37m\u001b[0m \u001b[1m1s\u001b[0m 12ms/step - accuracy: 0.7144 - loss: 0.7395 - val_accuracy: 0.7654 - val_loss: 0.6592\n",
      "Epoch 6/200\n",
      "\u001b[1m103/106\u001b[0m \u001b[32m━━━━━━━━━━━━━━━━━━━\u001b[0m\u001b[37m━\u001b[0m \u001b[1m0s\u001b[0m 10ms/step - accuracy: 0.7752 - loss: 0.6065\n",
      "Epoch 6: val_accuracy improved from 0.76540 to 0.82464, saving model to /kaggle/working/paper_replication_model.h5\n",
      "\u001b[1m106/106\u001b[0m \u001b[32m━━━━━━━━━━━━━━━━━━━━\u001b[0m\u001b[37m\u001b[0m \u001b[1m1s\u001b[0m 12ms/step - accuracy: 0.7755 - loss: 0.6059 - val_accuracy: 0.8246 - val_loss: 0.4769\n",
      "Epoch 7/200\n",
      "\u001b[1m105/106\u001b[0m \u001b[32m━━━━━━━━━━━━━━━━━━━\u001b[0m\u001b[37m━\u001b[0m \u001b[1m0s\u001b[0m 10ms/step - accuracy: 0.8257 - loss: 0.4632\n",
      "Epoch 7: val_accuracy improved from 0.82464 to 0.86967, saving model to /kaggle/working/paper_replication_model.h5\n",
      "\u001b[1m106/106\u001b[0m \u001b[32m━━━━━━━━━━━━━━━━━━━━\u001b[0m\u001b[37m\u001b[0m \u001b[1m1s\u001b[0m 12ms/step - accuracy: 0.8259 - loss: 0.4629 - val_accuracy: 0.8697 - val_loss: 0.3689\n",
      "Epoch 8/200\n",
      "\u001b[1m106/106\u001b[0m \u001b[32m━━━━━━━━━━━━━━━━━━━━\u001b[0m\u001b[37m\u001b[0m \u001b[1m0s\u001b[0m 10ms/step - accuracy: 0.8564 - loss: 0.3925\n",
      "Epoch 8: val_accuracy improved from 0.86967 to 0.89573, saving model to /kaggle/working/paper_replication_model.h5\n",
      "\u001b[1m106/106\u001b[0m \u001b[32m━━━━━━━━━━━━━━━━━━━━\u001b[0m\u001b[37m\u001b[0m \u001b[1m1s\u001b[0m 12ms/step - accuracy: 0.8565 - loss: 0.3923 - val_accuracy: 0.8957 - val_loss: 0.3229\n",
      "Epoch 9/200\n",
      "\u001b[1m102/106\u001b[0m \u001b[32m━━━━━━━━━━━━━━━━━━━\u001b[0m\u001b[37m━\u001b[0m \u001b[1m0s\u001b[0m 10ms/step - accuracy: 0.8927 - loss: 0.2840\n",
      "Epoch 9: val_accuracy improved from 0.89573 to 0.89810, saving model to /kaggle/working/paper_replication_model.h5\n",
      "\u001b[1m106/106\u001b[0m \u001b[32m━━━━━━━━━━━━━━━━━━━━\u001b[0m\u001b[37m\u001b[0m \u001b[1m1s\u001b[0m 12ms/step - accuracy: 0.8924 - loss: 0.2848 - val_accuracy: 0.8981 - val_loss: 0.2941\n",
      "Epoch 10/200\n",
      "\u001b[1m103/106\u001b[0m \u001b[32m━━━━━━━━━━━━━━━━━━━\u001b[0m\u001b[37m━\u001b[0m \u001b[1m0s\u001b[0m 10ms/step - accuracy: 0.9079 - loss: 0.2412\n",
      "Epoch 10: val_accuracy improved from 0.89810 to 0.92654, saving model to /kaggle/working/paper_replication_model.h5\n",
      "\u001b[1m106/106\u001b[0m \u001b[32m━━━━━━━━━━━━━━━━━━━━\u001b[0m\u001b[37m\u001b[0m \u001b[1m1s\u001b[0m 12ms/step - accuracy: 0.9078 - loss: 0.2415 - val_accuracy: 0.9265 - val_loss: 0.2525\n",
      "Epoch 11/200\n",
      "\u001b[1m102/106\u001b[0m \u001b[32m━━━━━━━━━━━━━━━━━━━\u001b[0m\u001b[37m━\u001b[0m \u001b[1m0s\u001b[0m 10ms/step - accuracy: 0.9294 - loss: 0.1933\n",
      "Epoch 11: val_accuracy did not improve from 0.92654\n",
      "\u001b[1m106/106\u001b[0m \u001b[32m━━━━━━━━━━━━━━━━━━━━\u001b[0m\u001b[37m\u001b[0m \u001b[1m1s\u001b[0m 12ms/step - accuracy: 0.9295 - loss: 0.1932 - val_accuracy: 0.9265 - val_loss: 0.2195\n",
      "Epoch 12/200\n",
      "\u001b[1m103/106\u001b[0m \u001b[32m━━━━━━━━━━━━━━━━━━━\u001b[0m\u001b[37m━\u001b[0m \u001b[1m0s\u001b[0m 10ms/step - accuracy: 0.9412 - loss: 0.1621\n",
      "Epoch 12: val_accuracy improved from 0.92654 to 0.93365, saving model to /kaggle/working/paper_replication_model.h5\n",
      "\u001b[1m106/106\u001b[0m \u001b[32m━━━━━━━━━━━━━━━━━━━━\u001b[0m\u001b[37m\u001b[0m \u001b[1m1s\u001b[0m 12ms/step - accuracy: 0.9410 - loss: 0.1624 - val_accuracy: 0.9336 - val_loss: 0.2060\n",
      "Epoch 13/200\n",
      "\u001b[1m102/106\u001b[0m \u001b[32m━━━━━━━━━━━━━━━━━━━\u001b[0m\u001b[37m━\u001b[0m \u001b[1m0s\u001b[0m 10ms/step - accuracy: 0.9526 - loss: 0.1333\n",
      "Epoch 13: val_accuracy improved from 0.93365 to 0.93839, saving model to /kaggle/working/paper_replication_model.h5\n",
      "\u001b[1m106/106\u001b[0m \u001b[32m━━━━━━━━━━━━━━━━━━━━\u001b[0m\u001b[37m\u001b[0m \u001b[1m1s\u001b[0m 12ms/step - accuracy: 0.9524 - loss: 0.1343 - val_accuracy: 0.9384 - val_loss: 0.1915\n",
      "Epoch 14/200\n",
      "\u001b[1m104/106\u001b[0m \u001b[32m━━━━━━━━━━━━━━━━━━━\u001b[0m\u001b[37m━\u001b[0m \u001b[1m0s\u001b[0m 10ms/step - accuracy: 0.9449 - loss: 0.1539\n",
      "Epoch 14: val_accuracy did not improve from 0.93839\n",
      "\u001b[1m106/106\u001b[0m \u001b[32m━━━━━━━━━━━━━━━━━━━━\u001b[0m\u001b[37m\u001b[0m \u001b[1m1s\u001b[0m 11ms/step - accuracy: 0.9449 - loss: 0.1540 - val_accuracy: 0.9171 - val_loss: 0.2296\n",
      "Epoch 15/200\n",
      "\u001b[1m104/106\u001b[0m \u001b[32m━━━━━━━━━━━━━━━━━━━\u001b[0m\u001b[37m━\u001b[0m \u001b[1m0s\u001b[0m 10ms/step - accuracy: 0.9590 - loss: 0.1108\n",
      "Epoch 15: val_accuracy improved from 0.93839 to 0.94313, saving model to /kaggle/working/paper_replication_model.h5\n",
      "\u001b[1m106/106\u001b[0m \u001b[32m━━━━━━━━━━━━━━━━━━━━\u001b[0m\u001b[37m\u001b[0m \u001b[1m1s\u001b[0m 12ms/step - accuracy: 0.9590 - loss: 0.1108 - val_accuracy: 0.9431 - val_loss: 0.1773\n",
      "Epoch 16/200\n",
      "\u001b[1m103/106\u001b[0m \u001b[32m━━━━━━━━━━━━━━━━━━━\u001b[0m\u001b[37m━\u001b[0m \u001b[1m0s\u001b[0m 10ms/step - accuracy: 0.9593 - loss: 0.1151\n",
      "Epoch 16: val_accuracy did not improve from 0.94313\n",
      "\u001b[1m106/106\u001b[0m \u001b[32m━━━━━━━━━━━━━━━━━━━━\u001b[0m\u001b[37m\u001b[0m \u001b[1m1s\u001b[0m 11ms/step - accuracy: 0.9592 - loss: 0.1154 - val_accuracy: 0.9431 - val_loss: 0.1951\n",
      "Epoch 17/200\n",
      "\u001b[1m105/106\u001b[0m \u001b[32m━━━━━━━━━━━━━━━━━━━\u001b[0m\u001b[37m━\u001b[0m \u001b[1m0s\u001b[0m 10ms/step - accuracy: 0.9719 - loss: 0.0843\n",
      "Epoch 17: val_accuracy improved from 0.94313 to 0.94550, saving model to /kaggle/working/paper_replication_model.h5\n",
      "\u001b[1m106/106\u001b[0m \u001b[32m━━━━━━━━━━━━━━━━━━━━\u001b[0m\u001b[37m\u001b[0m \u001b[1m1s\u001b[0m 12ms/step - accuracy: 0.9719 - loss: 0.0844 - val_accuracy: 0.9455 - val_loss: 0.1500\n",
      "Epoch 18/200\n",
      "\u001b[1m106/106\u001b[0m \u001b[32m━━━━━━━━━━━━━━━━━━━━\u001b[0m\u001b[37m\u001b[0m \u001b[1m0s\u001b[0m 10ms/step - accuracy: 0.9670 - loss: 0.1090\n",
      "Epoch 18: val_accuracy improved from 0.94550 to 0.95498, saving model to /kaggle/working/paper_replication_model.h5\n",
      "\u001b[1m106/106\u001b[0m \u001b[32m━━━━━━━━━━━━━━━━━━━━\u001b[0m\u001b[37m\u001b[0m \u001b[1m1s\u001b[0m 12ms/step - accuracy: 0.9669 - loss: 0.1089 - val_accuracy: 0.9550 - val_loss: 0.1440\n",
      "Epoch 19/200\n",
      "\u001b[1m106/106\u001b[0m \u001b[32m━━━━━━━━━━━━━━━━━━━━\u001b[0m\u001b[37m\u001b[0m \u001b[1m0s\u001b[0m 10ms/step - accuracy: 0.9655 - loss: 0.0978\n",
      "Epoch 19: val_accuracy did not improve from 0.95498\n",
      "\u001b[1m106/106\u001b[0m \u001b[32m━━━━━━━━━━━━━━━━━━━━\u001b[0m\u001b[37m\u001b[0m \u001b[1m1s\u001b[0m 11ms/step - accuracy: 0.9655 - loss: 0.0979 - val_accuracy: 0.9431 - val_loss: 0.1867\n",
      "Epoch 20/200\n",
      "\u001b[1m106/106\u001b[0m \u001b[32m━━━━━━━━━━━━━━━━━━━━\u001b[0m\u001b[37m\u001b[0m \u001b[1m0s\u001b[0m 10ms/step - accuracy: 0.9786 - loss: 0.0729\n",
      "Epoch 20: val_accuracy did not improve from 0.95498\n",
      "\u001b[1m106/106\u001b[0m \u001b[32m━━━━━━━━━━━━━━━━━━━━\u001b[0m\u001b[37m\u001b[0m \u001b[1m1s\u001b[0m 12ms/step - accuracy: 0.9786 - loss: 0.0729 - val_accuracy: 0.9526 - val_loss: 0.1589\n",
      "Epoch 21/200\n",
      "\u001b[1m102/106\u001b[0m \u001b[32m━━━━━━━━━━━━━━━━━━━\u001b[0m\u001b[37m━\u001b[0m \u001b[1m0s\u001b[0m 10ms/step - accuracy: 0.9794 - loss: 0.0602\n",
      "Epoch 21: val_accuracy did not improve from 0.95498\n",
      "\u001b[1m106/106\u001b[0m \u001b[32m━━━━━━━━━━━━━━━━━━━━\u001b[0m\u001b[37m\u001b[0m \u001b[1m1s\u001b[0m 11ms/step - accuracy: 0.9792 - loss: 0.0607 - val_accuracy: 0.9336 - val_loss: 0.2203\n",
      "Epoch 22/200\n",
      "\u001b[1m106/106\u001b[0m \u001b[32m━━━━━━━━━━━━━━━━━━━━\u001b[0m\u001b[37m\u001b[0m \u001b[1m0s\u001b[0m 10ms/step - accuracy: 0.9659 - loss: 0.0942\n",
      "Epoch 22: val_accuracy did not improve from 0.95498\n",
      "\u001b[1m106/106\u001b[0m \u001b[32m━━━━━━━━━━━━━━━━━━━━\u001b[0m\u001b[37m\u001b[0m \u001b[1m1s\u001b[0m 11ms/step - accuracy: 0.9659 - loss: 0.0941 - val_accuracy: 0.9550 - val_loss: 0.1493\n",
      "Epoch 23/200\n",
      "\u001b[1m102/106\u001b[0m \u001b[32m━━━━━━━━━━━━━━━━━━━\u001b[0m\u001b[37m━\u001b[0m \u001b[1m0s\u001b[0m 10ms/step - accuracy: 0.9843 - loss: 0.0491\n",
      "Epoch 23: val_accuracy improved from 0.95498 to 0.95972, saving model to /kaggle/working/paper_replication_model.h5\n",
      "\u001b[1m106/106\u001b[0m \u001b[32m━━━━━━━━━━━━━━━━━━━━\u001b[0m\u001b[37m\u001b[0m \u001b[1m1s\u001b[0m 12ms/step - accuracy: 0.9841 - loss: 0.0494 - val_accuracy: 0.9597 - val_loss: 0.1509\n",
      "Epoch 24/200\n",
      "\u001b[1m102/106\u001b[0m \u001b[32m━━━━━━━━━━━━━━━━━━━\u001b[0m\u001b[37m━\u001b[0m \u001b[1m0s\u001b[0m 10ms/step - accuracy: 0.9793 - loss: 0.0619\n",
      "Epoch 24: val_accuracy did not improve from 0.95972\n",
      "\u001b[1m106/106\u001b[0m \u001b[32m━━━━━━━━━━━━━━━━━━━━\u001b[0m\u001b[37m\u001b[0m \u001b[1m1s\u001b[0m 12ms/step - accuracy: 0.9791 - loss: 0.0622 - val_accuracy: 0.9597 - val_loss: 0.1484\n",
      "Epoch 25/200\n",
      "\u001b[1m105/106\u001b[0m \u001b[32m━━━━━━━━━━━━━━━━━━━\u001b[0m\u001b[37m━\u001b[0m \u001b[1m0s\u001b[0m 10ms/step - accuracy: 0.9794 - loss: 0.0642\n",
      "Epoch 25: val_accuracy did not improve from 0.95972\n",
      "\u001b[1m106/106\u001b[0m \u001b[32m━━━━━━━━━━━━━━━━━━━━\u001b[0m\u001b[37m\u001b[0m \u001b[1m1s\u001b[0m 12ms/step - accuracy: 0.9793 - loss: 0.0642 - val_accuracy: 0.9573 - val_loss: 0.1552\n",
      "Epoch 26/200\n",
      "\u001b[1m103/106\u001b[0m \u001b[32m━━━━━━━━━━━━━━━━━━━\u001b[0m\u001b[37m━\u001b[0m \u001b[1m0s\u001b[0m 11ms/step - accuracy: 0.9800 - loss: 0.0712\n",
      "Epoch 26: val_accuracy improved from 0.95972 to 0.96445, saving model to /kaggle/working/paper_replication_model.h5\n",
      "\u001b[1m106/106\u001b[0m \u001b[32m━━━━━━━━━━━━━━━━━━━━\u001b[0m\u001b[37m\u001b[0m \u001b[1m1s\u001b[0m 13ms/step - accuracy: 0.9798 - loss: 0.0715 - val_accuracy: 0.9645 - val_loss: 0.1244\n",
      "Epoch 27/200\n",
      "\u001b[1m103/106\u001b[0m \u001b[32m━━━━━━━━━━━━━━━━━━━\u001b[0m\u001b[37m━\u001b[0m \u001b[1m0s\u001b[0m 12ms/step - accuracy: 0.9835 - loss: 0.0534\n",
      "Epoch 27: val_accuracy did not improve from 0.96445\n",
      "\u001b[1m106/106\u001b[0m \u001b[32m━━━━━━━━━━━━━━━━━━━━\u001b[0m\u001b[37m\u001b[0m \u001b[1m1s\u001b[0m 13ms/step - accuracy: 0.9835 - loss: 0.0534 - val_accuracy: 0.9573 - val_loss: 0.1575\n",
      "Epoch 28/200\n",
      "\u001b[1m105/106\u001b[0m \u001b[32m━━━━━━━━━━━━━━━━━━━\u001b[0m\u001b[37m━\u001b[0m \u001b[1m0s\u001b[0m 10ms/step - accuracy: 0.9890 - loss: 0.0434\n",
      "Epoch 28: val_accuracy did not improve from 0.96445\n",
      "\u001b[1m106/106\u001b[0m \u001b[32m━━━━━━━━━━━━━━━━━━━━\u001b[0m\u001b[37m\u001b[0m \u001b[1m1s\u001b[0m 12ms/step - accuracy: 0.9889 - loss: 0.0433 - val_accuracy: 0.9597 - val_loss: 0.1091\n",
      "Epoch 29/200\n",
      "\u001b[1m103/106\u001b[0m \u001b[32m━━━━━━━━━━━━━━━━━━━\u001b[0m\u001b[37m━\u001b[0m \u001b[1m0s\u001b[0m 10ms/step - accuracy: 0.9888 - loss: 0.0315\n",
      "Epoch 29: val_accuracy did not improve from 0.96445\n",
      "\u001b[1m106/106\u001b[0m \u001b[32m━━━━━━━━━━━━━━━━━━━━\u001b[0m\u001b[37m\u001b[0m \u001b[1m1s\u001b[0m 12ms/step - accuracy: 0.9888 - loss: 0.0316 - val_accuracy: 0.9645 - val_loss: 0.1279\n",
      "Epoch 30/200\n",
      "\u001b[1m102/106\u001b[0m \u001b[32m━━━━━━━━━━━━━━━━━━━\u001b[0m\u001b[37m━\u001b[0m \u001b[1m0s\u001b[0m 10ms/step - accuracy: 0.9873 - loss: 0.0419\n",
      "Epoch 30: val_accuracy did not improve from 0.96445\n",
      "\u001b[1m106/106\u001b[0m \u001b[32m━━━━━━━━━━━━━━━━━━━━\u001b[0m\u001b[37m\u001b[0m \u001b[1m1s\u001b[0m 11ms/step - accuracy: 0.9871 - loss: 0.0424 - val_accuracy: 0.9502 - val_loss: 0.1619\n",
      "Epoch 31/200\n",
      "\u001b[1m105/106\u001b[0m \u001b[32m━━━━━━━━━━━━━━━━━━━\u001b[0m\u001b[37m━\u001b[0m \u001b[1m0s\u001b[0m 10ms/step - accuracy: 0.9835 - loss: 0.0456\n",
      "Epoch 31: val_accuracy did not improve from 0.96445\n",
      "\u001b[1m106/106\u001b[0m \u001b[32m━━━━━━━━━━━━━━━━━━━━\u001b[0m\u001b[37m\u001b[0m \u001b[1m1s\u001b[0m 12ms/step - accuracy: 0.9835 - loss: 0.0456 - val_accuracy: 0.9621 - val_loss: 0.1414\n",
      "Epoch 32/200\n",
      "\u001b[1m104/106\u001b[0m \u001b[32m━━━━━━━━━━━━━━━━━━━\u001b[0m\u001b[37m━\u001b[0m \u001b[1m0s\u001b[0m 10ms/step - accuracy: 0.9873 - loss: 0.0403\n",
      "Epoch 32: val_accuracy did not improve from 0.96445\n",
      "\u001b[1m106/106\u001b[0m \u001b[32m━━━━━━━━━━━━━━━━━━━━\u001b[0m\u001b[37m\u001b[0m \u001b[1m1s\u001b[0m 11ms/step - accuracy: 0.9872 - loss: 0.0406 - val_accuracy: 0.9550 - val_loss: 0.1818\n",
      "Epoch 33/200\n",
      "\u001b[1m102/106\u001b[0m \u001b[32m━━━━━━━━━━━━━━━━━━━\u001b[0m\u001b[37m━\u001b[0m \u001b[1m0s\u001b[0m 10ms/step - accuracy: 0.9880 - loss: 0.0341\n",
      "Epoch 33: val_accuracy did not improve from 0.96445\n",
      "\u001b[1m106/106\u001b[0m \u001b[32m━━━━━━━━━━━━━━━━━━━━\u001b[0m\u001b[37m\u001b[0m \u001b[1m1s\u001b[0m 11ms/step - accuracy: 0.9881 - loss: 0.0343 - val_accuracy: 0.9621 - val_loss: 0.1547\n",
      "Epoch 34/200\n",
      "\u001b[1m104/106\u001b[0m \u001b[32m━━━━━━━━━━━━━━━━━━━\u001b[0m\u001b[37m━\u001b[0m \u001b[1m0s\u001b[0m 10ms/step - accuracy: 0.9913 - loss: 0.0295\n",
      "Epoch 34: val_accuracy improved from 0.96445 to 0.96682, saving model to /kaggle/working/paper_replication_model.h5\n",
      "\u001b[1m106/106\u001b[0m \u001b[32m━━━━━━━━━━━━━━━━━━━━\u001b[0m\u001b[37m\u001b[0m \u001b[1m1s\u001b[0m 12ms/step - accuracy: 0.9912 - loss: 0.0297 - val_accuracy: 0.9668 - val_loss: 0.1356\n",
      "Epoch 35/200\n",
      "\u001b[1m104/106\u001b[0m \u001b[32m━━━━━━━━━━━━━━━━━━━\u001b[0m\u001b[37m━\u001b[0m \u001b[1m0s\u001b[0m 10ms/step - accuracy: 0.9810 - loss: 0.0563\n",
      "Epoch 35: val_accuracy did not improve from 0.96682\n",
      "\u001b[1m106/106\u001b[0m \u001b[32m━━━━━━━━━━━━━━━━━━━━\u001b[0m\u001b[37m\u001b[0m \u001b[1m1s\u001b[0m 11ms/step - accuracy: 0.9810 - loss: 0.0563 - val_accuracy: 0.9573 - val_loss: 0.1472\n",
      "Epoch 36/200\n",
      "\u001b[1m102/106\u001b[0m \u001b[32m━━━━━━━━━━━━━━━━━━━\u001b[0m\u001b[37m━\u001b[0m \u001b[1m0s\u001b[0m 10ms/step - accuracy: 0.9765 - loss: 0.0527\n",
      "Epoch 36: val_accuracy did not improve from 0.96682\n",
      "\u001b[1m106/106\u001b[0m \u001b[32m━━━━━━━━━━━━━━━━━━━━\u001b[0m\u001b[37m\u001b[0m \u001b[1m1s\u001b[0m 11ms/step - accuracy: 0.9767 - loss: 0.0527 - val_accuracy: 0.9360 - val_loss: 0.1870\n",
      "Epoch 37/200\n",
      "\u001b[1m103/106\u001b[0m \u001b[32m━━━━━━━━━━━━━━━━━━━\u001b[0m\u001b[37m━\u001b[0m \u001b[1m0s\u001b[0m 10ms/step - accuracy: 0.9819 - loss: 0.0638\n",
      "Epoch 37: val_accuracy did not improve from 0.96682\n",
      "\u001b[1m106/106\u001b[0m \u001b[32m━━━━━━━━━━━━━━━━━━━━\u001b[0m\u001b[37m\u001b[0m \u001b[1m1s\u001b[0m 11ms/step - accuracy: 0.9821 - loss: 0.0631 - val_accuracy: 0.9479 - val_loss: 0.1870\n",
      "Epoch 38/200\n",
      "\u001b[1m103/106\u001b[0m \u001b[32m━━━━━━━━━━━━━━━━━━━\u001b[0m\u001b[37m━\u001b[0m \u001b[1m0s\u001b[0m 10ms/step - accuracy: 0.9859 - loss: 0.0476\n",
      "Epoch 38: val_accuracy did not improve from 0.96682\n",
      "\u001b[1m106/106\u001b[0m \u001b[32m━━━━━━━━━━━━━━━━━━━━\u001b[0m\u001b[37m\u001b[0m \u001b[1m1s\u001b[0m 12ms/step - accuracy: 0.9858 - loss: 0.0480 - val_accuracy: 0.9597 - val_loss: 0.1620\n",
      "Epoch 39/200\n",
      "\u001b[1m101/106\u001b[0m \u001b[32m━━━━━━━━━━━━━━━━━━━\u001b[0m\u001b[37m━\u001b[0m \u001b[1m0s\u001b[0m 10ms/step - accuracy: 0.9897 - loss: 0.0337\n",
      "Epoch 39: val_accuracy did not improve from 0.96682\n",
      "\u001b[1m106/106\u001b[0m \u001b[32m━━━━━━━━━━━━━━━━━━━━\u001b[0m\u001b[37m\u001b[0m \u001b[1m1s\u001b[0m 12ms/step - accuracy: 0.9897 - loss: 0.0338 - val_accuracy: 0.9573 - val_loss: 0.1664\n",
      "Epoch 40/200\n",
      "\u001b[1m106/106\u001b[0m \u001b[32m━━━━━━━━━━━━━━━━━━━━\u001b[0m\u001b[37m\u001b[0m \u001b[1m0s\u001b[0m 10ms/step - accuracy: 0.9926 - loss: 0.0280\n",
      "Epoch 40: val_accuracy did not improve from 0.96682\n",
      "\u001b[1m106/106\u001b[0m \u001b[32m━━━━━━━━━━━━━━━━━━━━\u001b[0m\u001b[37m\u001b[0m \u001b[1m1s\u001b[0m 11ms/step - accuracy: 0.9927 - loss: 0.0280 - val_accuracy: 0.9668 - val_loss: 0.1397\n",
      "Epoch 41/200\n",
      "\u001b[1m103/106\u001b[0m \u001b[32m━━━━━━━━━━━━━━━━━━━\u001b[0m\u001b[37m━\u001b[0m \u001b[1m0s\u001b[0m 10ms/step - accuracy: 0.9862 - loss: 0.0392\n",
      "Epoch 41: val_accuracy did not improve from 0.96682\n",
      "\u001b[1m106/106\u001b[0m \u001b[32m━━━━━━━━━━━━━━━━━━━━\u001b[0m\u001b[37m\u001b[0m \u001b[1m1s\u001b[0m 12ms/step - accuracy: 0.9861 - loss: 0.0393 - val_accuracy: 0.9502 - val_loss: 0.1991\n",
      "Epoch 42/200\n",
      "\u001b[1m104/106\u001b[0m \u001b[32m━━━━━━━━━━━━━━━━━━━\u001b[0m\u001b[37m━\u001b[0m \u001b[1m0s\u001b[0m 10ms/step - accuracy: 0.9911 - loss: 0.0321\n",
      "Epoch 42: val_accuracy did not improve from 0.96682\n",
      "\u001b[1m106/106\u001b[0m \u001b[32m━━━━━━━━━━━━━━━━━━━━\u001b[0m\u001b[37m\u001b[0m \u001b[1m1s\u001b[0m 12ms/step - accuracy: 0.9910 - loss: 0.0323 - val_accuracy: 0.9550 - val_loss: 0.1678\n",
      "Epoch 43/200\n",
      "\u001b[1m103/106\u001b[0m \u001b[32m━━━━━━━━━━━━━━━━━━━\u001b[0m\u001b[37m━\u001b[0m \u001b[1m0s\u001b[0m 10ms/step - accuracy: 0.9898 - loss: 0.0291\n",
      "Epoch 43: val_accuracy did not improve from 0.96682\n",
      "\u001b[1m106/106\u001b[0m \u001b[32m━━━━━━━━━━━━━━━━━━━━\u001b[0m\u001b[37m\u001b[0m \u001b[1m1s\u001b[0m 12ms/step - accuracy: 0.9897 - loss: 0.0296 - val_accuracy: 0.9526 - val_loss: 0.2261\n",
      "Epoch 44/200\n",
      "\u001b[1m102/106\u001b[0m \u001b[32m━━━━━━━━━━━━━━━━━━━\u001b[0m\u001b[37m━\u001b[0m \u001b[1m0s\u001b[0m 10ms/step - accuracy: 0.9826 - loss: 0.0523\n",
      "Epoch 44: val_accuracy did not improve from 0.96682\n",
      "\u001b[1m106/106\u001b[0m \u001b[32m━━━━━━━━━━━━━━━━━━━━\u001b[0m\u001b[37m\u001b[0m \u001b[1m1s\u001b[0m 12ms/step - accuracy: 0.9827 - loss: 0.0519 - val_accuracy: 0.9668 - val_loss: 0.1685\n",
      "Epoch 45/200\n",
      "\u001b[1m103/106\u001b[0m \u001b[32m━━━━━━━━━━━━━━━━━━━\u001b[0m\u001b[37m━\u001b[0m \u001b[1m0s\u001b[0m 10ms/step - accuracy: 0.9881 - loss: 0.0303\n",
      "Epoch 45: val_accuracy did not improve from 0.96682\n",
      "\u001b[1m106/106\u001b[0m \u001b[32m━━━━━━━━━━━━━━━━━━━━\u001b[0m\u001b[37m\u001b[0m \u001b[1m1s\u001b[0m 12ms/step - accuracy: 0.9881 - loss: 0.0307 - val_accuracy: 0.9502 - val_loss: 0.1600\n",
      "Epoch 46/200\n",
      "\u001b[1m103/106\u001b[0m \u001b[32m━━━━━━━━━━━━━━━━━━━\u001b[0m\u001b[37m━\u001b[0m \u001b[1m0s\u001b[0m 10ms/step - accuracy: 0.9910 - loss: 0.0293\n",
      "Epoch 46: val_accuracy did not improve from 0.96682\n",
      "\u001b[1m106/106\u001b[0m \u001b[32m━━━━━━━━━━━━━━━━━━━━\u001b[0m\u001b[37m\u001b[0m \u001b[1m1s\u001b[0m 12ms/step - accuracy: 0.9910 - loss: 0.0292 - val_accuracy: 0.9668 - val_loss: 0.2020\n",
      "Epoch 47/200\n",
      "\u001b[1m104/106\u001b[0m \u001b[32m━━━━━━━━━━━━━━━━━━━\u001b[0m\u001b[37m━\u001b[0m \u001b[1m0s\u001b[0m 10ms/step - accuracy: 0.9888 - loss: 0.0365\n",
      "Epoch 47: val_accuracy did not improve from 0.96682\n",
      "\u001b[1m106/106\u001b[0m \u001b[32m━━━━━━━━━━━━━━━━━━━━\u001b[0m\u001b[37m\u001b[0m \u001b[1m1s\u001b[0m 11ms/step - accuracy: 0.9886 - loss: 0.0369 - val_accuracy: 0.9573 - val_loss: 0.1817\n",
      "Epoch 48/200\n",
      "\u001b[1m105/106\u001b[0m \u001b[32m━━━━━━━━━━━━━━━━━━━\u001b[0m\u001b[37m━\u001b[0m \u001b[1m0s\u001b[0m 10ms/step - accuracy: 0.9844 - loss: 0.0410\n",
      "Epoch 48: val_accuracy improved from 0.96682 to 0.97156, saving model to /kaggle/working/paper_replication_model.h5\n",
      "\u001b[1m106/106\u001b[0m \u001b[32m━━━━━━━━━━━━━━━━━━━━\u001b[0m\u001b[37m\u001b[0m \u001b[1m1s\u001b[0m 12ms/step - accuracy: 0.9845 - loss: 0.0407 - val_accuracy: 0.9716 - val_loss: 0.1324\n",
      "Epoch 49/200\n",
      "\u001b[1m102/106\u001b[0m \u001b[32m━━━━━━━━━━━━━━━━━━━\u001b[0m\u001b[37m━\u001b[0m \u001b[1m0s\u001b[0m 10ms/step - accuracy: 0.9886 - loss: 0.0368\n",
      "Epoch 49: val_accuracy did not improve from 0.97156\n",
      "\u001b[1m106/106\u001b[0m \u001b[32m━━━━━━━━━━━━━━━━━━━━\u001b[0m\u001b[37m\u001b[0m \u001b[1m1s\u001b[0m 11ms/step - accuracy: 0.9886 - loss: 0.0366 - val_accuracy: 0.9645 - val_loss: 0.1289\n",
      "Epoch 50/200\n",
      "\u001b[1m106/106\u001b[0m \u001b[32m━━━━━━━━━━━━━━━━━━━━\u001b[0m\u001b[37m\u001b[0m \u001b[1m0s\u001b[0m 11ms/step - accuracy: 0.9885 - loss: 0.0308\n",
      "Epoch 50: val_accuracy did not improve from 0.97156\n",
      "\u001b[1m106/106\u001b[0m \u001b[32m━━━━━━━━━━━━━━━━━━━━\u001b[0m\u001b[37m\u001b[0m \u001b[1m1s\u001b[0m 12ms/step - accuracy: 0.9885 - loss: 0.0308 - val_accuracy: 0.9621 - val_loss: 0.1494\n",
      "Epoch 51/200\n",
      "\u001b[1m105/106\u001b[0m \u001b[32m━━━━━━━━━━━━━━━━━━━\u001b[0m\u001b[37m━\u001b[0m \u001b[1m0s\u001b[0m 10ms/step - accuracy: 0.9935 - loss: 0.0255\n",
      "Epoch 51: val_accuracy did not improve from 0.97156\n",
      "\u001b[1m106/106\u001b[0m \u001b[32m━━━━━━━━━━━━━━━━━━━━\u001b[0m\u001b[37m\u001b[0m \u001b[1m1s\u001b[0m 12ms/step - accuracy: 0.9934 - loss: 0.0256 - val_accuracy: 0.9597 - val_loss: 0.1390\n",
      "Epoch 52/200\n",
      "\u001b[1m102/106\u001b[0m \u001b[32m━━━━━━━━━━━━━━━━━━━\u001b[0m\u001b[37m━\u001b[0m \u001b[1m0s\u001b[0m 12ms/step - accuracy: 0.9862 - loss: 0.0421\n",
      "Epoch 52: val_accuracy did not improve from 0.97156\n",
      "\u001b[1m106/106\u001b[0m \u001b[32m━━━━━━━━━━━━━━━━━━━━\u001b[0m\u001b[37m\u001b[0m \u001b[1m1s\u001b[0m 14ms/step - accuracy: 0.9863 - loss: 0.0415 - val_accuracy: 0.9668 - val_loss: 0.1166\n",
      "Epoch 53/200\n",
      "\u001b[1m102/106\u001b[0m \u001b[32m━━━━━━━━━━━━━━━━━━━\u001b[0m\u001b[37m━\u001b[0m \u001b[1m0s\u001b[0m 10ms/step - accuracy: 0.9862 - loss: 0.0403\n",
      "Epoch 53: val_accuracy improved from 0.97156 to 0.97393, saving model to /kaggle/working/paper_replication_model.h5\n",
      "\u001b[1m106/106\u001b[0m \u001b[32m━━━━━━━━━━━━━━━━━━━━\u001b[0m\u001b[37m\u001b[0m \u001b[1m1s\u001b[0m 12ms/step - accuracy: 0.9862 - loss: 0.0402 - val_accuracy: 0.9739 - val_loss: 0.1234\n",
      "Epoch 53: early stopping\n",
      "Restoring model weights from the end of the best epoch: 28.\n"
     ]
    }
   ],
   "source": [
    "# Train the model.\n",
    "EPOCHS = 200\n",
    "\n",
    "early_stopping = EarlyStopping(\n",
    "    monitor='val_loss', \n",
    "    patience=25,\n",
    "    restore_best_weights=True,\n",
    "    verbose=1\n",
    ")\n",
    "\n",
    "model_checkpoint = ModelCheckpoint(\n",
    "    os.path.join(WORKING_DIR, 'paper_replication_model.h5'), \n",
    "    monitor='val_accuracy', \n",
    "    save_best_only=True,\n",
    "    verbose=1\n",
    ")\n",
    "\n",
    "history = model.fit(\n",
    "    train_generator,\n",
    "    epochs=EPOCHS,\n",
    "    validation_data=validation_generator,\n",
    "    callbacks=[early_stopping, model_checkpoint]\n",
    ")"
   ]
  },
  {
   "cell_type": "markdown",
   "metadata": {},
   "source": [
    "### 8. Visualizing Training History and Final Evaluation\n",
    "\n",
    "After training is complete, it's essential to evaluate the model's performance. This cell performs two key tasks:\n",
    "\n",
    "1.  **Plotting Learning Curves:** It visualizes the model's `accuracy` and `loss` for both the training and validation sets over each epoch. This helps us understand if the model learned effectively and whether it overfit the training data.\n",
    "2.  **Final Test Evaluation:** It loads the best model saved by `ModelCheckpoint` and evaluates its performance on the **unseen test set**. This provides the final, unbiased measure of the model's accuracy."
   ]
  },
  {
   "cell_type": "code",
   "execution_count": 10,
   "metadata": {
    "execution": {
     "iopub.execute_input": "2025-06-19T18:09:29.400705Z",
     "iopub.status.busy": "2025-06-19T18:09:29.400148Z",
     "iopub.status.idle": "2025-06-19T18:09:31.203646Z",
     "shell.execute_reply": "2025-06-19T18:09:31.203070Z",
     "shell.execute_reply.started": "2025-06-19T18:09:29.400685Z"
    },
    "trusted": true
   },
   "outputs": [
    {
     "data": {
      "image/png": "[encoded data removed]",
      "text/plain": [
       "<Figure size 1400x500 with 2 Axes>"
      ]
     },
     "metadata": {},
     "output_type": "display_data"
    },
    {
     "name": "stdout",
     "output_type": "stream",
     "text": [
      "Loading the best model saved during training...\n",
      "\n",
      "Evaluating model on the test set...\n",
      "\u001b[1m14/14\u001b[0m \u001b[32m━━━━━━━━━━━━━━━━━━━━\u001b[0m\u001b[37m\u001b[0m \u001b[1m1s\u001b[0m 30ms/step - accuracy: 0.9663 - loss: 0.1129\n",
      "\n",
      "Final Test Accuracy: 0.9526\n",
      "Final Test Loss: 0.1612\n"
     ]
    }
   ],
   "source": [
    "# Plot training history to visualize learning\n",
    "def plot_history(history):\n",
    "    acc = history.history['accuracy']\n",
    "    val_acc = history.history['val_accuracy']\n",
    "    loss = history.history['loss']\n",
    "    val_loss = history.history['val_loss']\n",
    "    epochs = range(1, len(acc) + 1)\n",
    "\n",
    "    plt.figure(figsize=(14, 5))\n",
    "    \n",
    "    plt.subplot(1, 2, 1)\n",
    "    plt.plot(epochs, acc, 'bo-', label='Training acc')\n",
    "    plt.plot(epochs, val_acc, 'ro-', label='Validation acc')\n",
    "    plt.title('Training and Validation Accuracy')\n",
    "    plt.xlabel('Epochs')\n",
    "    plt.ylabel('Accuracy')\n",
    "    plt.grid(True)\n",
    "    plt.legend()\n",
    "    \n",
    "    plt.subplot(1, 2, 2)\n",
    "    plt.plot(epochs, loss, 'bo-', label='Training loss')\n",
    "    plt.plot(epochs, val_loss, 'ro-', label='Validation loss')\n",
    "    plt.title('Training and Validation Loss')\n",
    "    plt.xlabel('Epochs')\n",
    "    plt.ylabel('Loss')\n",
    "    plt.grid(True)\n",
    "    plt.legend()\n",
    "    \n",
    "    plt.show()\n",
    "\n",
    "plot_history(history)\n",
    "\n",
    "# Load the best performing model and evaluate on the unseen test set\n",
    "print(\"Loading the best model saved during training...\")\n",
    "best_model = load_model(os.path.join(WORKING_DIR, 'paper_replication_model.h5'))\n",
    "\n",
    "print(\"\\nEvaluating model on the test set...\")\n",
    "test_loss, test_acc = best_model.evaluate(test_generator, verbose=1)\n",
    "print(f'\\nFinal Test Accuracy: {test_acc:.4f}')\n",
    "print(f'Final Test Loss: {test_loss:.4f}')"
   ]
  },
  {
   "cell_type": "markdown",
   "metadata": {},
   "source": [
    "### 9. In-Depth Performance Analysis\n",
    "\n",
    "To get a more granular understanding of the model's behavior, we generate two key reports:\n",
    "\n",
    "- **Classification Report:** This provides class-wise metrics, including:\n",
    "    - **Precision:** Of all the times the model predicted a certain class, how often was it correct?\n",
    "    - **Recall:** Of all the actual instances of a class, how many did the model correctly identify?\n",
    "    - **F1-Score:** The harmonic mean of precision and recall, providing a single score for a class's performance.\n",
    "\n",
    "- **Confusion Matrix:** This is a powerful visualization that shows exactly where the model is making mistakes. The diagonal represents correct predictions, while off-diagonal cells show which classes are being confused with one another."
   ]
  },
  {
   "cell_type": "code",
   "execution_count": 11,
   "metadata": {
    "execution": {
     "iopub.execute_input": "2025-06-19T18:09:40.313210Z",
     "iopub.status.busy": "2025-06-19T18:09:40.312667Z",
     "iopub.status.idle": "2025-06-19T18:09:41.530195Z",
     "shell.execute_reply": "2025-06-19T18:09:41.529379Z",
     "shell.execute_reply.started": "2025-06-19T18:09:40.313186Z"
    },
    "trusted": true
   },
   "outputs": [
    {
     "name": "stdout",
     "output_type": "stream",
     "text": [
      "\u001b[1m14/14\u001b[0m \u001b[32m━━━━━━━━━━━━━━━━━━━━\u001b[0m\u001b[37m\u001b[0m \u001b[1m1s\u001b[0m 37ms/step\n",
      "\n",
      "Classification Report:\n",
      "\n",
      "                precision    recall  f1-score   support\n",
      "\n",
      "  sal_data_100       0.94      0.98      0.96       106\n",
      "   sal_data_50       0.96      0.93      0.95       105\n",
      "   sal_data_80       0.94      0.97      0.95       106\n",
      "sal_data_empty       0.98      0.92      0.95       105\n",
      "\n",
      "      accuracy                           0.95       422\n",
      "     macro avg       0.95      0.95      0.95       422\n",
      "  weighted avg       0.95      0.95      0.95       422\n",
      "\n",
      "\n",
      "Confusion Matrix:\n",
      "\n"
     ]
    },
    {
     "data": {
      "image/png": "[encoded data removed]",
      "text/plain": [
       "<Figure size 800x600 with 2 Axes>"
      ]
     },
     "metadata": {},
     "output_type": "display_data"
    }
   ],
   "source": [
    "# Generate detailed performance metrics\n",
    "y_pred_probs = best_model.predict(test_generator)\n",
    "y_pred = np.argmax(y_pred_probs, axis=1)\n",
    "y_true = test_generator.classes\n",
    "\n",
    "class_labels = sorted(test_generator.class_indices.keys())\n",
    "\n",
    "# Classification Report\n",
    "print(\"\\nClassification Report:\\n\")\n",
    "print(classification_report(y_true, y_pred, target_names=class_labels))\n",
    "\n",
    "# Confusion Matrix\n",
    "print(\"\\nConfusion Matrix:\\n\")\n",
    "cm = confusion_matrix(y_true, y_pred)\n",
    "plt.figure(figsize=(8, 6))\n",
    "sns.heatmap(cm, annot=True, fmt='d', cmap='Blues', \n",
    "            xticklabels=class_labels, yticklabels=class_labels)\n",
    "plt.title('Confusion Matrix')\n",
    "plt.ylabel('True Label')\n",
    "plt.xlabel('Predicted Label')\n",
    "plt.show()"
   ]
  }
 ],
 "metadata": {
  "kaggle": {
   "accelerator": "nvidiaTeslaT4",
   "dataSources": [
    {
     "datasetId": 7695437,
     "sourceId": 12215281,
     "sourceType": "datasetVersion"
    }
   ],
   "dockerImageVersionId": 31041,
   "isGpuEnabled": true,
   "isInternetEnabled": true,
   "language": "python",
   "sourceType": "notebook"
  },
  "kernelspec": {
   "display_name": "Python 3",
   "language": "python",
   "name": "python3"
  },
  "language_info": {
   "codemirror_mode": {
    "name": "ipython",
    "version": 3
   },
   "file_extension": ".py",
   "mimetype": "text/x-python",
   "name": "python",
   "nbconvert_exporter": "python",
   "pygments_lexer": "ipython3",
   "version": "3.11.11"
  }
 },
 "nbformat": 4,
 "nbformat_minor": 4
}
